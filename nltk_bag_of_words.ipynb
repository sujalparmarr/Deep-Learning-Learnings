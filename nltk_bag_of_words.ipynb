{
 "cells": [
  {
   "cell_type": "markdown",
   "id": "28b87b49",
   "metadata": {},
   "source": [
    "# Bag of Words - Practical Implementation\n"
   ]
  },
  {
   "cell_type": "code",
   "execution_count": null,
   "id": "901767e6",
   "metadata": {},
   "outputs": [],
   "source": [
    "from sklearn.feature_extraction.text import CountVectorizer"
   ]
  },
  {
   "cell_type": "markdown",
   "id": "93bddef8",
   "metadata": {},
   "source": [
    "## Example 1: Simple Sentences"
   ]
  },
  {
   "cell_type": "code",
   "execution_count": null,
   "id": "d2e61048",
   "metadata": {},
   "outputs": [],
   "source": [
    "\n",
    "# Example sentences\n",
    "sentences1 = [\n",
    "    \"I love data science\",\n",
    "    \"Data science is fun\",\n",
    "    \"I love Python\"\n",
    "]\n",
    "\n",
    "# Initialize CountVectorizer\n",
    "vectorizer1 = CountVectorizer()\n",
    "\n",
    "# Fit and transform the data\n",
    "X1 = vectorizer1.fit_transform(sentences1)\n",
    "\n",
    "# Show feature names (unique words)\n",
    "print(\"Vocabulary (Columns):\")\n",
    "print(vectorizer1.get_feature_names_out())\n",
    "\n",
    "# Convert the BoW matrix to array\n",
    "print(\"\\nBag of Words Matrix:\")\n",
    "print(X1.toarray())\n"
   ]
  },
  {
   "cell_type": "markdown",
   "id": "aa1721c7",
   "metadata": {},
   "source": [
    "## Example 2: Sentences with Common and Unique Words"
   ]
  },
  {
   "cell_type": "code",
   "execution_count": null,
   "id": "73a0da57",
   "metadata": {},
   "outputs": [],
   "source": [
    "\n",
    "# New set of example sentences\n",
    "sentences2 = [\n",
    "    \"Machine learning is fascinating\",\n",
    "    \"Deep learning drives AI progress\",\n",
    "    \"AI and machine learning are closely related\"\n",
    "]\n",
    "\n",
    "# Initialize CountVectorizer\n",
    "vectorizer2 = CountVectorizer()\n",
    "\n",
    "# Fit and transform the data\n",
    "X2 = vectorizer2.fit_transform(sentences2)\n",
    "\n",
    "# Show feature names (unique words)\n",
    "print(\"Vocabulary (Columns):\")\n",
    "print(vectorizer2.get_feature_names_out())\n",
    "\n",
    "# Convert the BoW matrix to array\n",
    "print(\"\\nBag of Words Matrix:\")\n",
    "print(X2.toarray())\n"
   ]
  },
  {
   "cell_type": "markdown",
   "id": "a1149e32",
   "metadata": {},
   "source": [
    "## Example 3: Including Stop Words and Case Sensitivity"
   ]
  },
  {
   "cell_type": "code",
   "execution_count": null,
   "id": "d3f834bc",
   "metadata": {},
   "outputs": [],
   "source": [
    "\n",
    "# Third example with variations\n",
    "sentences3 = [\n",
    "    \"The cat sat on the mat\",\n",
    "    \"The dog barked at the cat\",\n",
    "    \"Cats and dogs are animals\"\n",
    "]\n",
    "\n",
    "# Initialize CountVectorizer with stop_words='english'\n",
    "vectorizer3 = CountVectorizer(stop_words='english')\n",
    "\n",
    "# Fit and transform the data\n",
    "X3 = vectorizer3.fit_transform(sentences3)\n",
    "\n",
    "# Show feature names (unique words)\n",
    "print(\"Vocabulary (Columns) after removing stop words:\")\n",
    "print(vectorizer3.get_feature_names_out())\n",
    "\n",
    "# Convert the BoW matrix to array\n",
    "print(\"\\nBag of Words Matrix:\")\n",
    "print(X3.toarray())\n"
   ]
  }
 ],
 "metadata": {
  "kernelspec": {
   "display_name": "Python 3 (ipykernel)",
   "language": "python",
   "name": "python3"
  },
  "language_info": {
   "codemirror_mode": {
    "name": "ipython",
    "version": 3
   },
   "file_extension": ".py",
   "mimetype": "text/x-python",
   "name": "python",
   "nbconvert_exporter": "python",
   "pygments_lexer": "ipython3",
   "version": "3.10.9"
  }
 },
 "nbformat": 4,
 "nbformat_minor": 5
}
