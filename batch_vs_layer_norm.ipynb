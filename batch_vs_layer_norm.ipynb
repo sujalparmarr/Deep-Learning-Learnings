{
 "cells": [
  {
   "cell_type": "markdown",
   "id": "e22904c2",
   "metadata": {},
   "source": [
    "# Batch Normalization & Layer Normalization\n",
    "\n"
   ]
  },
  {
   "cell_type": "code",
   "execution_count": 1,
   "id": "6542b923",
   "metadata": {},
   "outputs": [
    {
     "name": "stdout",
     "output_type": "stream",
     "text": [
      "^C\n"
     ]
    }
   ],
   "source": [
    "!pip install torch torchvision --quiet"
   ]
  },
  {
   "cell_type": "code",
   "execution_count": 2,
   "id": "48dffa2a",
   "metadata": {},
   "outputs": [
    {
     "data": {
      "text/plain": [
       "<torch._C.Generator at 0x22b681952d0>"
      ]
     },
     "execution_count": 2,
     "metadata": {},
     "output_type": "execute_result"
    }
   ],
   "source": [
    "import torch\n",
    "import torch.nn as nn\n",
    "import torch.nn.functional as F\n",
    "\n",
    "torch.manual_seed(42)"
   ]
  },
  {
   "cell_type": "markdown",
   "id": "d0f2fb2d",
   "metadata": {},
   "source": [
    "## 🔹 Example: Model with **Batch Normalization**"
   ]
  },
  {
   "cell_type": "code",
   "execution_count": 3,
   "id": "b85eca7a",
   "metadata": {},
   "outputs": [
    {
     "name": "stdout",
     "output_type": "stream",
     "text": [
      "Output with Batch Normalization: tensor([[ 0.1015, -1.0733],\n",
      "        [ 0.6151,  0.1325]], grad_fn=<SliceBackward0>)\n"
     ]
    }
   ],
   "source": [
    "class SimpleBNModel(nn.Module):\n",
    "    def __init__(self):\n",
    "        super(SimpleBNModel, self).__init__()\n",
    "        self.fc1 = nn.Linear(20, 50)\n",
    "        self.bn1 = nn.BatchNorm1d(50)\n",
    "        self.fc2 = nn.Linear(50, 2)\n",
    "\n",
    "    def forward(self, x):\n",
    "        x = self.fc1(x)\n",
    "        x = self.bn1(x)   # Batch Normalization\n",
    "        x = F.relu(x)\n",
    "        x = self.fc2(x)\n",
    "        return x\n",
    "\n",
    "# Random input data\n",
    "x = torch.randn(10, 20)\n",
    "model_bn = SimpleBNModel()\n",
    "out = model_bn(x)\n",
    "print(\"Output with Batch Normalization:\", out[:2])"
   ]
  },
  {
   "cell_type": "markdown",
   "id": "9d8dac84",
   "metadata": {},
   "source": [
    "## 🔹 Example: Model with **Layer Normalization**"
   ]
  },
  {
   "cell_type": "code",
   "execution_count": 5,
   "id": "368be2fb",
   "metadata": {},
   "outputs": [
    {
     "name": "stdout",
     "output_type": "stream",
     "text": [
      "Output with Layer Normalization: tensor([[-0.2908,  0.6900],\n",
      "        [-0.5725,  0.2428]], grad_fn=<SliceBackward0>)\n"
     ]
    }
   ],
   "source": [
    "class SimpleLNModel(nn.Module):\n",
    "    def __init__(self):\n",
    "        super(SimpleLNModel, self).__init__()\n",
    "        self.fc1 = nn.Linear(20, 50)\n",
    "        self.ln1 = nn.LayerNorm(50)\n",
    "        self.fc2 = nn.Linear(50, 2)\n",
    "\n",
    "    def forward(self, x):\n",
    "        x = self.fc1(x)\n",
    "        x = self.ln1(x)   # Layer Normalization\n",
    "        x = F.relu(x)\n",
    "        x = self.fc2(x)\n",
    "        return x\n",
    "\n",
    "# Random input data\n",
    "model_ln = SimpleLNModel()\n",
    "out = model_ln(x)\n",
    "print(\"Output with Layer Normalization:\", out[:2])"
   ]
  },
  {
   "cell_type": "markdown",
   "id": "04160ed6",
   "metadata": {},
   "source": [
    "## 🔹 Key Differences\n",
    "\n",
    "- **BatchNorm:** Normalizes across the batch dimension. Works well with large batch sizes.\n",
    "- **LayerNorm:** Normalizes across features within a layer. Works well for RNNs, Transformers, or small batch sizes.\n"
   ]
  },
  {
   "cell_type": "code",
   "execution_count": null,
   "id": "ae270d77",
   "metadata": {},
   "outputs": [],
   "source": []
  }
 ],
 "metadata": {
  "kernelspec": {
   "display_name": "Python 3 (ipykernel)",
   "language": "python",
   "name": "python3"
  },
  "language_info": {
   "codemirror_mode": {
    "name": "ipython",
    "version": 3
   },
   "file_extension": ".py",
   "mimetype": "text/x-python",
   "name": "python",
   "nbconvert_exporter": "python",
   "pygments_lexer": "ipython3",
   "version": "3.10.9"
  }
 },
 "nbformat": 4,
 "nbformat_minor": 5
}
