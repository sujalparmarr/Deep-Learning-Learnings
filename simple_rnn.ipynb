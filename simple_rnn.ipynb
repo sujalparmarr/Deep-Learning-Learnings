{
 "cells": [
  {
   "cell_type": "markdown",
   "id": "000897a8",
   "metadata": {},
   "source": [
    "# Simple RNN "
   ]
  },
  {
   "cell_type": "code",
   "execution_count": 1,
   "id": "38c5c0b7",
   "metadata": {},
   "outputs": [],
   "source": [
    "# Import necessary libraries\n",
    "import numpy as np\n",
    "import tensorflow as tf\n",
    "from tensorflow.keras.models import Sequential\n",
    "from tensorflow.keras.layers import SimpleRNN, Dense, Embedding\n",
    "from tensorflow.keras.preprocessing.sequence import pad_sequences\n",
    "from tensorflow.keras.preprocessing.text import Tokenizer"
   ]
  },
  {
   "cell_type": "markdown",
   "id": "9196f783",
   "metadata": {},
   "source": [
    "## Step 1: Prepare some toy text data"
   ]
  },
  {
   "cell_type": "code",
   "execution_count": 2,
   "id": "3c108704",
   "metadata": {},
   "outputs": [
    {
     "name": "stdout",
     "output_type": "stream",
     "text": [
      "Word Index: {'i': 1, 'learning': 2, 'is': 3, 'neural': 4, 'in': 5, 'love': 6, 'machine': 7, 'deep': 8, 'amazing': 9, 'rnn': 10, 'a': 11, 'type': 12, 'of': 13, 'network': 14, 'networks': 15, 'learn': 16, 'patterns': 17, 'data': 18, 'enjoy': 19, 'coding': 20, 'python': 21}\n",
      "Sequences: [[1, 6, 7, 2], [8, 2, 3, 9], [10, 3, 11, 12, 13, 4, 14], [4, 15, 16, 17, 5, 18], [1, 19, 20, 5, 21]]\n"
     ]
    }
   ],
   "source": [
    "# Sample text data\n",
    "texts = [\n",
    "    'I love machine learning',\n",
    "    'Deep learning is amazing',\n",
    "    'RNN is a type of neural network',\n",
    "    'Neural networks learn patterns in data',\n",
    "    'I enjoy coding in Python'\n",
    "]\n",
    "\n",
    "# Tokenize the text\n",
    "tokenizer = Tokenizer()\n",
    "tokenizer.fit_on_texts(texts)\n",
    "sequences = tokenizer.texts_to_sequences(texts)\n",
    "\n",
    "print('Word Index:', tokenizer.word_index)\n",
    "print('Sequences:', sequences)"
   ]
  },
  {
   "cell_type": "markdown",
   "id": "6d3279d4",
   "metadata": {},
   "source": [
    "## Step 2: Pad sequences to have the same length"
   ]
  },
  {
   "cell_type": "code",
   "execution_count": 3,
   "id": "5d08d86b",
   "metadata": {},
   "outputs": [
    {
     "name": "stdout",
     "output_type": "stream",
     "text": [
      "Padded Sequences:\n",
      " [[ 1  6  7  2  0  0  0]\n",
      " [ 8  2  3  9  0  0  0]\n",
      " [10  3 11 12 13  4 14]\n",
      " [ 4 15 16 17  5 18  0]\n",
      " [ 1 19 20  5 21  0  0]]\n"
     ]
    }
   ],
   "source": [
    "X = pad_sequences(sequences, padding='post')\n",
    "print('Padded Sequences:\\n', X)"
   ]
  },
  {
   "cell_type": "markdown",
   "id": "e67a4f4a",
   "metadata": {},
   "source": [
    "## Step 3: Build a simple RNN model"
   ]
  },
  {
   "cell_type": "code",
   "execution_count": 4,
   "id": "fbb0fd47",
   "metadata": {},
   "outputs": [
    {
     "name": "stdout",
     "output_type": "stream",
     "text": [
      "Model: \"sequential\"\n",
      "_________________________________________________________________\n",
      " Layer (type)                Output Shape              Param #   \n",
      "=================================================================\n",
      " embedding (Embedding)       (None, 7, 8)              176       \n",
      "                                                                 \n",
      " simple_rnn (SimpleRNN)      (None, 16)                400       \n",
      "                                                                 \n",
      " dense (Dense)               (None, 1)                 17        \n",
      "                                                                 \n",
      "=================================================================\n",
      "Total params: 593\n",
      "Trainable params: 593\n",
      "Non-trainable params: 0\n",
      "_________________________________________________________________\n"
     ]
    }
   ],
   "source": [
    "vocab_size = len(tokenizer.word_index) + 1\n",
    "\n",
    "model = Sequential([\n",
    "    Embedding(input_dim=vocab_size, output_dim=8, input_length=X.shape[1]),\n",
    "    SimpleRNN(16, activation='tanh'),\n",
    "    Dense(1, activation='sigmoid')\n",
    "])\n",
    "\n",
    "model.compile(optimizer='adam', loss='binary_crossentropy', metrics=['accuracy'])\n",
    "model.summary()"
   ]
  },
  {
   "cell_type": "markdown",
   "id": "8418a259",
   "metadata": {},
   "source": [
    "## Step 4: Dummy labels (just for demonstration)"
   ]
  },
  {
   "cell_type": "code",
   "execution_count": 5,
   "id": "d1a914a3",
   "metadata": {},
   "outputs": [
    {
     "name": "stdout",
     "output_type": "stream",
     "text": [
      "Labels: [1 0 1 0 1]\n"
     ]
    }
   ],
   "source": [
    "# Creating random binary labels for demo purpose\n",
    "y = np.array([1, 0, 1, 0, 1])\n",
    "print('Labels:', y)"
   ]
  },
  {
   "cell_type": "markdown",
   "id": "a33324f5",
   "metadata": {},
   "source": [
    "## Step 5: Train the model"
   ]
  },
  {
   "cell_type": "code",
   "execution_count": 6,
   "id": "092a8fdf",
   "metadata": {},
   "outputs": [
    {
     "name": "stdout",
     "output_type": "stream",
     "text": [
      "Epoch 1/10\n",
      "1/1 [==============================] - 1s 1s/step - loss: 0.7058 - accuracy: 0.2000\n",
      "Epoch 2/10\n",
      "1/1 [==============================] - 0s 6ms/step - loss: 0.6966 - accuracy: 0.4000\n",
      "Epoch 3/10\n",
      "1/1 [==============================] - 0s 7ms/step - loss: 0.6875 - accuracy: 0.8000\n",
      "Epoch 4/10\n",
      "1/1 [==============================] - 0s 7ms/step - loss: 0.6785 - accuracy: 0.8000\n",
      "Epoch 5/10\n",
      "1/1 [==============================] - 0s 6ms/step - loss: 0.6695 - accuracy: 0.8000\n",
      "Epoch 6/10\n",
      "1/1 [==============================] - 0s 7ms/step - loss: 0.6605 - accuracy: 0.8000\n",
      "Epoch 7/10\n",
      "1/1 [==============================] - 0s 8ms/step - loss: 0.6515 - accuracy: 0.8000\n",
      "Epoch 8/10\n",
      "1/1 [==============================] - 0s 7ms/step - loss: 0.6424 - accuracy: 0.8000\n",
      "Epoch 9/10\n",
      "1/1 [==============================] - 0s 7ms/step - loss: 0.6332 - accuracy: 0.8000\n",
      "Epoch 10/10\n",
      "1/1 [==============================] - 0s 6ms/step - loss: 0.6239 - accuracy: 0.8000\n"
     ]
    }
   ],
   "source": [
    "history = model.fit(X, y, epochs=10, verbose=1)"
   ]
  },
  {
   "cell_type": "code",
   "execution_count": null,
   "id": "da2b69c3",
   "metadata": {},
   "outputs": [],
   "source": []
  }
 ],
 "metadata": {
  "kernelspec": {
   "display_name": "Python 3 (ipykernel)",
   "language": "python",
   "name": "python3"
  },
  "language_info": {
   "codemirror_mode": {
    "name": "ipython",
    "version": 3
   },
   "file_extension": ".py",
   "mimetype": "text/x-python",
   "name": "python",
   "nbconvert_exporter": "python",
   "pygments_lexer": "ipython3",
   "version": "3.10.9"
  }
 },
 "nbformat": 4,
 "nbformat_minor": 5
}
