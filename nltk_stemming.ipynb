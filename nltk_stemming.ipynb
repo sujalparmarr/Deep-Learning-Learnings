{
 "cells": [
  {
   "cell_type": "markdown",
   "id": "06e967e9",
   "metadata": {},
   "source": [
    "# Stemming Techniques using NLTK\n",
    "\n",
    "This notebook demonstrates three types of stemming techniques:\n",
    "- Porter Stemmer\n",
    "- Snowball Stemmer\n",
    "- Regex Stemmer\n",
    "\n",
    "Each technique is applied to a list of words with examples."
   ]
  },
  {
   "cell_type": "code",
   "execution_count": 1,
   "id": "8ef8bf7c",
   "metadata": {},
   "outputs": [
    {
     "name": "stdout",
     "output_type": "stream",
     "text": [
      "Defaulting to user installation because normal site-packages is not writeable\n",
      "Requirement already satisfied: nltk in c:\\programdata\\anaconda3\\lib\\site-packages (3.7)\n",
      "Requirement already satisfied: regex>=2021.8.3 in c:\\programdata\\anaconda3\\lib\\site-packages (from nltk) (2022.7.9)\n",
      "Requirement already satisfied: click in c:\\programdata\\anaconda3\\lib\\site-packages (from nltk) (8.0.4)\n",
      "Requirement already satisfied: joblib in c:\\programdata\\anaconda3\\lib\\site-packages (from nltk) (1.1.1)\n",
      "Requirement already satisfied: tqdm in c:\\programdata\\anaconda3\\lib\\site-packages (from nltk) (4.64.1)\n",
      "Requirement already satisfied: colorama in c:\\programdata\\anaconda3\\lib\\site-packages (from click->nltk) (0.4.6)\n"
     ]
    }
   ],
   "source": [
    "# Install NLTK if not already installed\n",
    "!pip install nltk"
   ]
  },
  {
   "cell_type": "code",
   "execution_count": 2,
   "id": "17d7e9f4",
   "metadata": {},
   "outputs": [
    {
     "name": "stderr",
     "output_type": "stream",
     "text": [
      "[nltk_data] Downloading package punkt to\n",
      "[nltk_data]     C:\\Users\\sujal\\AppData\\Roaming\\nltk_data...\n",
      "[nltk_data]   Package punkt is already up-to-date!\n"
     ]
    },
    {
     "data": {
      "text/plain": [
       "True"
      ]
     },
     "execution_count": 2,
     "metadata": {},
     "output_type": "execute_result"
    }
   ],
   "source": [
    "import nltk\n",
    "from nltk.stem import PorterStemmer, SnowballStemmer, RegexpStemmer\n",
    "nltk.download('punkt')"
   ]
  },
  {
   "cell_type": "code",
   "execution_count": 3,
   "id": "e1d86e96",
   "metadata": {},
   "outputs": [],
   "source": [
    "words = [\n",
    "    \"playing\", \"played\", \"plays\",\n",
    "    \"running\", \"runner\", \"ran\",\n",
    "    \"easily\", \"easier\", \"easiest\",\n",
    "    \"flying\", \"flies\", \"flown\",\n",
    "    \"studies\", \"studied\", \"studying\",\n",
    "    \"happily\", \"happiness\", \"happy\",\n",
    "    \"singing\", \"singer\", \"sang\",\n",
    "    \"jumps\", \"jumping\", \"jumped\",\n",
    "    \"argues\", \"argued\", \"arguing\",\n",
    "    \"writing\", \"writes\", \"wrote\", \"written\"\n",
    "]"
   ]
  },
  {
   "cell_type": "markdown",
   "id": "f5cf4954",
   "metadata": {},
   "source": [
    "## Porter Stemmer"
   ]
  },
  {
   "cell_type": "code",
   "execution_count": 4,
   "id": "30372232",
   "metadata": {},
   "outputs": [
    {
     "name": "stdout",
     "output_type": "stream",
     "text": [
      "playing --> play\n",
      "played --> play\n",
      "plays --> play\n",
      "running --> run\n",
      "runner --> runner\n",
      "ran --> ran\n",
      "easily --> easili\n",
      "easier --> easier\n",
      "easiest --> easiest\n",
      "flying --> fli\n",
      "flies --> fli\n",
      "flown --> flown\n",
      "studies --> studi\n",
      "studied --> studi\n",
      "studying --> studi\n",
      "happily --> happili\n",
      "happiness --> happi\n",
      "happy --> happi\n",
      "singing --> sing\n",
      "singer --> singer\n",
      "sang --> sang\n",
      "jumps --> jump\n",
      "jumping --> jump\n",
      "jumped --> jump\n",
      "argues --> argu\n",
      "argued --> argu\n",
      "arguing --> argu\n",
      "writing --> write\n",
      "writes --> write\n",
      "wrote --> wrote\n",
      "written --> written\n"
     ]
    }
   ],
   "source": [
    "porter = PorterStemmer()\n",
    "for word in words:\n",
    "    print(word + \" --> \" + porter.stem(word))"
   ]
  },
  {
   "cell_type": "markdown",
   "id": "262b69dc",
   "metadata": {},
   "source": [
    "## Snowball Stemmer"
   ]
  },
  {
   "cell_type": "code",
   "execution_count": 5,
   "id": "0daf0063",
   "metadata": {},
   "outputs": [
    {
     "name": "stdout",
     "output_type": "stream",
     "text": [
      "playing --> play\n",
      "played --> play\n",
      "plays --> play\n",
      "running --> run\n",
      "runner --> runner\n",
      "ran --> ran\n",
      "easily --> easili\n",
      "easier --> easier\n",
      "easiest --> easiest\n",
      "flying --> fli\n",
      "flies --> fli\n",
      "flown --> flown\n",
      "studies --> studi\n",
      "studied --> studi\n",
      "studying --> studi\n",
      "happily --> happili\n",
      "happiness --> happi\n",
      "happy --> happi\n",
      "singing --> sing\n",
      "singer --> singer\n",
      "sang --> sang\n",
      "jumps --> jump\n",
      "jumping --> jump\n",
      "jumped --> jump\n",
      "argues --> argu\n",
      "argued --> argu\n",
      "arguing --> argu\n",
      "writing --> write\n",
      "writes --> write\n",
      "wrote --> wrote\n",
      "written --> written\n"
     ]
    }
   ],
   "source": [
    "snowball = SnowballStemmer(\"english\")\n",
    "for word in words:\n",
    "    print(word + \" --> \" + snowball.stem(word))"
   ]
  },
  {
   "cell_type": "markdown",
   "id": "6179de72",
   "metadata": {},
   "source": [
    "## Regex Stemmer\n",
    "We use simple regex rules to chop common suffixes like -ing, -ed, -s, etc."
   ]
  },
  {
   "cell_type": "code",
   "execution_count": 6,
   "id": "f939a387",
   "metadata": {},
   "outputs": [
    {
     "name": "stdout",
     "output_type": "stream",
     "text": [
      "playing --> play\n",
      "jumps --> jump\n",
      "argued --> argu\n",
      "studying --> study\n"
     ]
    }
   ],
   "source": [
    "regex_stemmer = RegexpStemmer('ing$|s$|ed$', min=4)\n",
    "examples = [\"playing\", \"jumps\", \"argued\", \"studying\"]\n",
    "for word in examples:\n",
    "    print(word + \" --> \" + regex_stemmer.stem(word))"
   ]
  }
 ],
 "metadata": {
  "kernelspec": {
   "display_name": "Python 3 (ipykernel)",
   "language": "python",
   "name": "python3"
  },
  "language_info": {
   "codemirror_mode": {
    "name": "ipython",
    "version": 3
   },
   "file_extension": ".py",
   "mimetype": "text/x-python",
   "name": "python",
   "nbconvert_exporter": "python",
   "pygments_lexer": "ipython3",
   "version": "3.10.9"
  }
 },
 "nbformat": 4,
 "nbformat_minor": 5
}
