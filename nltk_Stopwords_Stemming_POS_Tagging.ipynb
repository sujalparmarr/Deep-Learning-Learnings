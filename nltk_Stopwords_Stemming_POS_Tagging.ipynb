{
 "cells": [
  {
   "cell_type": "markdown",
   "id": "ffaa387e",
   "metadata": {},
   "source": [
    "\n",
    "This notebook demonstrates how to use NLTK's stopwords and stemming functionalities, and how to apply POS tagging to tokenized words.\n"
   ]
  },
  {
   "cell_type": "code",
   "execution_count": 1,
   "id": "30a5d240",
   "metadata": {},
   "outputs": [
    {
     "name": "stderr",
     "output_type": "stream",
     "text": [
      "[nltk_data] Downloading package stopwords to\n",
      "[nltk_data]     C:\\Users\\sujal\\AppData\\Roaming\\nltk_data...\n",
      "[nltk_data]   Package stopwords is already up-to-date!\n",
      "[nltk_data] Downloading package punkt to\n",
      "[nltk_data]     C:\\Users\\sujal\\AppData\\Roaming\\nltk_data...\n",
      "[nltk_data]   Package punkt is already up-to-date!\n",
      "[nltk_data] Downloading package averaged_perceptron_tagger to\n",
      "[nltk_data]     C:\\Users\\sujal\\AppData\\Roaming\\nltk_data...\n",
      "[nltk_data]   Package averaged_perceptron_tagger is already up-to-\n",
      "[nltk_data]       date!\n"
     ]
    },
    {
     "data": {
      "text/plain": [
       "True"
      ]
     },
     "execution_count": 1,
     "metadata": {},
     "output_type": "execute_result"
    }
   ],
   "source": [
    "# Import necessary libraries\n",
    "import nltk\n",
    "from nltk.corpus import stopwords\n",
    "from nltk.stem import PorterStemmer\n",
    "\n",
    "# Download required resources\n",
    "nltk.download('stopwords')\n",
    "nltk.download('punkt')\n",
    "nltk.download('averaged_perceptron_tagger')\n"
   ]
  },
  {
   "cell_type": "code",
   "execution_count": 2,
   "id": "5088080b",
   "metadata": {},
   "outputs": [],
   "source": [
    "# Initialize the stemmer\n",
    "stemming = PorterStemmer()\n"
   ]
  },
  {
   "cell_type": "code",
   "execution_count": 3,
   "id": "ce11b242",
   "metadata": {},
   "outputs": [],
   "source": [
    "# Define example paragraph\n",
    "paragraph = \"\"\"\n",
    "Natural Language Processing with Python is interesting. It allows computers to understand human language.\n",
    "Stemming helps reduce words to their base form. The weather today is nice and sunny.\n",
    "\"\"\"\n",
    "\n",
    "# Sentence tokenization\n",
    "sentences = nltk.sent_tokenize(paragraph)\n"
   ]
  },
  {
   "cell_type": "code",
   "execution_count": 4,
   "id": "0fb1f26b",
   "metadata": {},
   "outputs": [
    {
     "name": "stdout",
     "output_type": "stream",
     "text": [
      "Original sentence: \n",
      "Natural Language Processing with Python is interesting.\n",
      "After removing stopwords and stemming: ['natur', 'languag', 'process', 'python', 'interest', '.']\n",
      "POS Tags: [('natur', 'JJ'), ('languag', 'NN'), ('process', 'NN'), ('python', 'NN'), ('interest', 'NN'), ('.', '.')]\n",
      "\n",
      "------------------------------------------------------------\n",
      "\n",
      "Original sentence: It allows computers to understand human language.\n",
      "After removing stopwords and stemming: ['allow', 'comput', 'understand', 'human', 'languag', '.']\n",
      "POS Tags: [('allow', 'VB'), ('comput', 'NN'), ('understand', 'JJ'), ('human', 'JJ'), ('languag', 'NN'), ('.', '.')]\n",
      "\n",
      "------------------------------------------------------------\n",
      "\n",
      "Original sentence: Stemming helps reduce words to their base form.\n",
      "After removing stopwords and stemming: ['stem', 'help', 'reduc', 'word', 'base', 'form', '.']\n",
      "POS Tags: [('stem', 'NN'), ('help', 'NN'), ('reduc', 'VB'), ('word', 'NN'), ('base', 'NN'), ('form', 'NN'), ('.', '.')]\n",
      "\n",
      "------------------------------------------------------------\n",
      "\n",
      "Original sentence: The weather today is nice and sunny.\n",
      "After removing stopwords and stemming: ['weather', 'today', 'nice', 'sunni', '.']\n",
      "POS Tags: [('weather', 'NN'), ('today', 'NN'), ('nice', 'JJ'), ('sunni', 'NN'), ('.', '.')]\n",
      "\n",
      "------------------------------------------------------------\n",
      "\n"
     ]
    }
   ],
   "source": [
    "# Apply stopwords filtering, stemming, and POS tagging\n",
    "for i in range(len(sentences)):\n",
    "    words = nltk.word_tokenize(sentences[i])\n",
    "    words = [word for word in words if word.lower() not in set(stopwords.words('english'))]\n",
    "    stemmed_words = [stemming.stem(word) for word in words]\n",
    "    postag = nltk.pos_tag(stemmed_words)\n",
    "    print(f\"Original sentence: {sentences[i]}\")\n",
    "    print(f\"After removing stopwords and stemming: {stemmed_words}\")\n",
    "    print(f\"POS Tags: {postag}\")\n",
    "    print(\"\\n\" + \"-\"*60 + \"\\n\")\n"
   ]
  }
 ],
 "metadata": {
  "kernelspec": {
   "display_name": "Python 3 (ipykernel)",
   "language": "python",
   "name": "python3"
  },
  "language_info": {
   "codemirror_mode": {
    "name": "ipython",
    "version": 3
   },
   "file_extension": ".py",
   "mimetype": "text/x-python",
   "name": "python",
   "nbconvert_exporter": "python",
   "pygments_lexer": "ipython3",
   "version": "3.10.9"
  }
 },
 "nbformat": 4,
 "nbformat_minor": 5
}
