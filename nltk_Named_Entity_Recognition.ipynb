{
 "cells": [
  {
   "cell_type": "markdown",
   "id": "09127b4f",
   "metadata": {},
   "source": [
    "\n",
    "## Named Entity Recognition (NER)\n",
    "\n",
    "Named Entity Recognition (NER) helps in identifying important names, such as people, places, organizations, etc., from a text.\n",
    "It uses POS tagging and chunking to classify named entities into categories like PERSON, ORGANIZATION, GPE (Geo-Political Entity), etc.\n"
   ]
  },
  {
   "cell_type": "code",
   "execution_count": 1,
   "id": "eab6e18b",
   "metadata": {},
   "outputs": [
    {
     "name": "stderr",
     "output_type": "stream",
     "text": [
      "[nltk_data] Downloading package punkt to\n",
      "[nltk_data]     C:\\Users\\sujal\\AppData\\Roaming\\nltk_data...\n",
      "[nltk_data]   Package punkt is already up-to-date!\n",
      "[nltk_data] Downloading package averaged_perceptron_tagger to\n",
      "[nltk_data]     C:\\Users\\sujal\\AppData\\Roaming\\nltk_data...\n",
      "[nltk_data]   Package averaged_perceptron_tagger is already up-to-\n",
      "[nltk_data]       date!\n",
      "[nltk_data] Downloading package maxent_ne_chunker to\n",
      "[nltk_data]     C:\\Users\\sujal\\AppData\\Roaming\\nltk_data...\n",
      "[nltk_data]   Package maxent_ne_chunker is already up-to-date!\n",
      "[nltk_data] Downloading package words to\n",
      "[nltk_data]     C:\\Users\\sujal\\AppData\\Roaming\\nltk_data...\n",
      "[nltk_data]   Package words is already up-to-date!\n"
     ]
    },
    {
     "data": {
      "text/plain": [
       "True"
      ]
     },
     "execution_count": 1,
     "metadata": {},
     "output_type": "execute_result"
    }
   ],
   "source": [
    "import nltk\n",
    "from nltk import word_tokenize, pos_tag, ne_chunk\n",
    "\n",
    "# Download necessary datasets\n",
    "nltk.download('punkt')\n",
    "nltk.download('averaged_perceptron_tagger')\n",
    "nltk.download('maxent_ne_chunker')\n",
    "nltk.download('words')\n"
   ]
  },
  {
   "cell_type": "code",
   "execution_count": 2,
   "id": "8e7ae87d",
   "metadata": {},
   "outputs": [
    {
     "name": "stdout",
     "output_type": "stream",
     "text": [
      "Named Entities in Example 1:\n",
      "(S\n",
      "  Dr./NNP\n",
      "  A.P.J/NNP\n",
      "  ./.\n",
      "  (PERSON Abdul/NNP Kalam/NNP)\n",
      "  was/VBD\n",
      "  born/VBN\n",
      "  in/IN\n",
      "  (GPE Rameswaram/NNP)\n",
      "  ,/,\n",
      "  (GPE India/NNP)\n",
      "  ,/,\n",
      "  and/CC\n",
      "  worked/VBD\n",
      "  with/IN\n",
      "  (ORGANIZATION ISRO/NNP)\n",
      "  and/CC\n",
      "  (ORGANIZATION DRDO/NNP)\n",
      "  ./.)\n"
     ]
    }
   ],
   "source": [
    "# Example 1\n",
    "sent1 = \"Dr. A.P.J. Abdul Kalam was born in Rameswaram, India, and worked with ISRO and DRDO.\"\n",
    "\n",
    "tokens1 = word_tokenize(sent1)       # Tokenize\n",
    "tagged1 = pos_tag(tokens1)           # POS Tagging\n",
    "chunked1 = ne_chunk(tagged1)         # NER Chunking\n",
    "\n",
    "print(\"Named Entities in Example 1:\")\n",
    "print(chunked1)\n"
   ]
  },
  {
   "cell_type": "code",
   "execution_count": 3,
   "id": "245613d8",
   "metadata": {},
   "outputs": [
    {
     "name": "stdout",
     "output_type": "stream",
     "text": [
      "Named Entities in Example 2:\n",
      "(S\n",
      "  (PERSON Elon/NNP)\n",
      "  (PERSON Musk/NNP)\n",
      "  founded/VBD\n",
      "  (ORGANIZATION SpaceX/NNP)\n",
      "  and/CC\n",
      "  (GPE Tesla/NNP)\n",
      "  in/IN\n",
      "  the/DT\n",
      "  (GPE United/NNP States/NNPS)\n",
      "  ./.)\n"
     ]
    }
   ],
   "source": [
    "# Example 2\n",
    "sent2 = \"Elon Musk founded SpaceX and Tesla in the United States.\"\n",
    "\n",
    "tokens2 = word_tokenize(sent2)\n",
    "tagged2 = pos_tag(tokens2)\n",
    "chunked2 = ne_chunk(tagged2)\n",
    "\n",
    "print(\"Named Entities in Example 2:\")\n",
    "print(chunked2)\n"
   ]
  },
  {
   "cell_type": "code",
   "execution_count": 4,
   "id": "d7ccf4f1",
   "metadata": {},
   "outputs": [
    {
     "name": "stdout",
     "output_type": "stream",
     "text": [
      "Named Entities in Example 3:\n",
      "(S\n",
      "  (PERSON Sundar/NNP)\n",
      "  (PERSON Pichai/NNP)\n",
      "  is/VBZ\n",
      "  the/DT\n",
      "  (ORGANIZATION CEO/NN of/IN Google/NNP)\n",
      "  ,/,\n",
      "  which/WDT\n",
      "  is/VBZ\n",
      "  headquartered/VBN\n",
      "  in/IN\n",
      "  (GPE Mountain/NNP View/NNP)\n",
      "  ,/,\n",
      "  (GPE California/NNP)\n",
      "  ./.)\n"
     ]
    }
   ],
   "source": [
    "# Example 3\n",
    "sent3 = \"Sundar Pichai is the CEO of Google, which is headquartered in Mountain View, California.\"\n",
    "\n",
    "tokens3 = word_tokenize(sent3)\n",
    "tagged3 = pos_tag(tokens3)\n",
    "chunked3 = ne_chunk(tagged3)\n",
    "\n",
    "print(\"Named Entities in Example 3:\")\n",
    "print(chunked3)\n"
   ]
  }
 ],
 "metadata": {
  "kernelspec": {
   "display_name": "Python 3 (ipykernel)",
   "language": "python",
   "name": "python3"
  },
  "language_info": {
   "codemirror_mode": {
    "name": "ipython",
    "version": 3
   },
   "file_extension": ".py",
   "mimetype": "text/x-python",
   "name": "python",
   "nbconvert_exporter": "python",
   "pygments_lexer": "ipython3",
   "version": "3.10.9"
  }
 },
 "nbformat": 4,
 "nbformat_minor": 5
}
