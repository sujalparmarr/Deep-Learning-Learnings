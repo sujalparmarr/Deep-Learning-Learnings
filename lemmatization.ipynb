{
 "cells": [
  {
   "cell_type": "markdown",
   "id": "705bc0b6",
   "metadata": {},
   "source": [
    "# Lemmatization "
   ]
  },
  {
   "cell_type": "code",
   "execution_count": 1,
   "id": "918e9cdc",
   "metadata": {},
   "outputs": [],
   "source": [
    "\n",
    "# Install NLTK \n",
    "# !pip install nltk\n"
   ]
  },
  {
   "cell_type": "code",
   "execution_count": 2,
   "id": "f387a648",
   "metadata": {},
   "outputs": [
    {
     "name": "stderr",
     "output_type": "stream",
     "text": [
      "[nltk_data] Downloading package punkt to\n",
      "[nltk_data]     C:\\Users\\sujal\\AppData\\Roaming\\nltk_data...\n",
      "[nltk_data]   Package punkt is already up-to-date!\n",
      "[nltk_data] Downloading package wordnet to\n",
      "[nltk_data]     C:\\Users\\sujal\\AppData\\Roaming\\nltk_data...\n",
      "[nltk_data]   Package wordnet is already up-to-date!\n",
      "[nltk_data] Downloading package omw-1.4 to\n",
      "[nltk_data]     C:\\Users\\sujal\\AppData\\Roaming\\nltk_data...\n",
      "[nltk_data]   Package omw-1.4 is already up-to-date!\n"
     ]
    },
    {
     "data": {
      "text/plain": [
       "True"
      ]
     },
     "execution_count": 2,
     "metadata": {},
     "output_type": "execute_result"
    }
   ],
   "source": [
    "\n",
    "# Import libraries\n",
    "import nltk\n",
    "from nltk.stem import WordNetLemmatizer\n",
    "from nltk.corpus import wordnet\n",
    "\n",
    "# Download required NLTK data (run once)\n",
    "nltk.download('punkt')\n",
    "nltk.download('wordnet')\n",
    "nltk.download('omw-1.4')\n"
   ]
  },
  {
   "cell_type": "code",
   "execution_count": 3,
   "id": "308f0b75",
   "metadata": {},
   "outputs": [
    {
     "name": "stdout",
     "output_type": "stream",
     "text": [
      "Original words: ['The', 'cats', 'were', 'chasing', 'mice', 'and', 'running', 'faster', 'than', 'the', 'dogs', '.']\n",
      "Lemmatized words: ['The', 'cat', 'were', 'chasing', 'mouse', 'and', 'running', 'faster', 'than', 'the', 'dog', '.']\n"
     ]
    }
   ],
   "source": [
    "\n",
    "# Create a lemmatizer object\n",
    "lemmatizer = WordNetLemmatizer()\n",
    "\n",
    "# Sample text\n",
    "text = \"The cats were chasing mice and running faster than the dogs.\"\n",
    "\n",
    "# Tokenize text into words\n",
    "words = nltk.word_tokenize(text)\n",
    "\n",
    "# Lemmatize each word\n",
    "lemmatized_words = [lemmatizer.lemmatize(word) for word in words]\n",
    "\n",
    "print(\"Original words:\", words)\n",
    "print(\"Lemmatized words:\", lemmatized_words)\n"
   ]
  },
  {
   "cell_type": "code",
   "execution_count": 4,
   "id": "8360723c",
   "metadata": {},
   "outputs": [
    {
     "name": "stdout",
     "output_type": "stream",
     "text": [
      "Lemmatized as verbs: ['The', 'cat', 'be', 'chase', 'mice', 'and', 'run', 'faster', 'than', 'the', 'dog', '.']\n"
     ]
    }
   ],
   "source": [
    "\n",
    "# Lemmatizing with specific part-of-speech (POS) tags\n",
    "# NLTK lemmatizer defaults to noun; specifying POS can improve results\n",
    "\n",
    "# Example: lemmatize as verbs\n",
    "lemmatized_as_verbs = [lemmatizer.lemmatize(word, pos='v') for word in words]\n",
    "\n",
    "print(\"Lemmatized as verbs:\", lemmatized_as_verbs)\n"
   ]
  },
  {
   "cell_type": "code",
   "execution_count": 5,
   "id": "a2e3386b",
   "metadata": {},
   "outputs": [
    {
     "name": "stdout",
     "output_type": "stream",
     "text": [
      "Original: The children are playing in the gardens.\n",
      "Lemmatized: ['The', 'children', 'be', 'play', 'in', 'the', 'garden', '.']\n"
     ]
    }
   ],
   "source": [
    "\n",
    "# A function for full sentence lemmatization\n",
    "def lemmatize_sentence(sentence):\n",
    "    tokens = nltk.word_tokenize(sentence)\n",
    "    return [lemmatizer.lemmatize(token, pos='v') for token in tokens]\n",
    "\n",
    "sample_sentence = \"The children are playing in the gardens.\"\n",
    "print(\"Original:\", sample_sentence)\n",
    "print(\"Lemmatized:\", lemmatize_sentence(sample_sentence))\n"
   ]
  }
 ],
 "metadata": {
  "kernelspec": {
   "display_name": "Python 3 (ipykernel)",
   "language": "python",
   "name": "python3"
  },
  "language_info": {
   "codemirror_mode": {
    "name": "ipython",
    "version": 3
   },
   "file_extension": ".py",
   "mimetype": "text/x-python",
   "name": "python",
   "nbconvert_exporter": "python",
   "pygments_lexer": "ipython3",
   "version": "3.10.9"
  }
 },
 "nbformat": 4,
 "nbformat_minor": 5
}
